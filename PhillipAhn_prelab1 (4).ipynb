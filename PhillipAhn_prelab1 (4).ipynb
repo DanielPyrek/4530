Phillip Ahn
1/29/2020
Prelab 1
CEE 4530

1) One source of Zinc is Zinc Chloride, ZnCl2.
The molecular weight of Zinc Chloride is 136.286g/mol.

The objective is to get 100mL of 1microM solution.

1 liter of 1 microM solution would be 1E-6 mols of Zinc. Therefore 100mL
requires 1E-7 mols of Zinc, or .1 microMols.

If we setup a stock solution of 1M Zinc, then it would take 1E-7 Liters, or 0.1 microLiters
of stock solution in 100mL of water to create our desired solution.
However, our pipette can only dispense a minimum of 10 microLiters so
this is not a viable strategy.

Therefore I would create a stock solution of 0.001M ZnCl2. This would require
adding 0.136286 grams of ZnCl2 to 100mL of water. This is reasonable as
0.1363 grams of Zinc is reasonable to measure, and 100mL of stock solution
would not create an unreasonable amount of waste were it to not be used.

To create the desired solution, take 10microLiters of the stock solution to
100mL of water.

2) The density of NaCl solution is 0.6985C + p(water). The density of water
at room temperature is about 998grams/Liter, or 0.998kg/Liter.

Therefore the density of 1M solution at room temperature is 0.6985 + 0.998
= 1.6965 kg/Liter
